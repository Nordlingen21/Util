{
 "cells": [
  {
   "cell_type": "code",
   "execution_count": 1,
   "metadata": {},
   "outputs": [],
   "source": [
    "import pandas as pd\n",
    "import numpy as np"
   ]
  },
  {
   "cell_type": "code",
   "execution_count": 2,
   "metadata": {},
   "outputs": [],
   "source": [
    "def DescribeDf(df):\n",
    "    Columnas =df.columns\n",
    "    Tipos=df.dtypes\n",
    "    NumFilas=df.shape[0]\n",
    "    NumColumnas=df.shape[1]\n",
    "    print(\"Filas    = \" +str(NumFilas))\n",
    "    print(\"Columnas = \" +str(NumColumnas))\n",
    "    for i in range(NumColumnas):\n",
    "        print('-'*50)\n",
    "        print(\"Campo \"+str(i+1)+'/'+str(NumColumnas)+\" (Index \"+str(i)+\"): \"+Columnas[i])\n",
    "        print(\"\")\n",
    "        VC=df[Columnas[i]].value_counts()\n",
    "        ValoresDistintos=VC.shape[0]\n",
    "        if ValoresDistintos<=40:\n",
    "            print(VC)\n",
    "        elif ValoresDistintos==NumFilas:\n",
    "            print(\"   >>> Posible clave principal <<<\")\n",
    "            print(\"\")\n",
    "            VC=df[Columnas[i]].value_counts(bins=10)\n",
    "            print(VC)\n",
    "        elif Tipos[i]=='int64' or Tipos[i]=='float64':\n",
    "            print(\"ValoresDistintos=\"+str(NumFilas))\n",
    "            print(\"\")\n",
    "            VC=df[Columnas[i]].value_counts(bins=20)\n",
    "            print(VC)"
   ]
  },
  {
   "cell_type": "code",
   "execution_count": 3,
   "metadata": {},
   "outputs": [],
   "source": [
    "def CreaDF(ruta,YearFolder,File):\n",
    "    df=pd.read_csv(r'' + ruta + '\\\\' + YearFolder + '\\\\' + File,low_memory=False)\n",
    "    print(df.shape)\n",
    "    return df"
   ]
  },
  {
   "cell_type": "code",
   "execution_count": 4,
   "metadata": {},
   "outputs": [],
   "source": [
    "def AnexaDF(df_total,ruta,YearFolder,File):\n",
    "    print('-'*30)\n",
    "    print(df_total.shape)\n",
    "    df=pd.read_csv(r'' + ruta + '\\\\' + YearFolder + '\\\\' + File,low_memory=False)\n",
    "    print(df.shape)\n",
    "    df_total=pd.concat([df_total,df],ignore_index=True)\n",
    "    print(df_total.shape)\n",
    "    return df_total"
   ]
  },
  {
   "cell_type": "code",
   "execution_count": 5,
   "metadata": {},
   "outputs": [],
   "source": [
    "def TraduceAunqueHayaNaNs(df,diccionario,CampoOrigen,CampoDestino):\n",
    "    Filas=df.shape[0]\n",
    "    FilasRellenas=0\n",
    "    for i in range(Filas):\n",
    "        entero=df.loc[i,CampoOrigen]\n",
    "        if entero==entero:\n",
    "            cadena=diccionario[entero]\n",
    "            df.loc[i,CampoDestino]=cadena\n",
    "            FilasRellenas=FilasRellenas+1\n",
    "    print(\"Filas = \"+str(Filas))\n",
    "    print(\"FilasRellenas = \"+str(FilasRellenas))\n",
    "    Ratio=FilasRellenas/Filas\n",
    "    print(\"Ratio[%] = \"+str(100*Ratio))\n",
    "    print(\"-\"*10)\n",
    "    print(df[CampoDestino].value_counts(1))"
   ]
  },
  {
   "cell_type": "code",
   "execution_count": 6,
   "metadata": {},
   "outputs": [],
   "source": [
    "def Columnizar(df):\n",
    "    \n",
    "    Filas=df.shape[0]\n",
    "    Columnas=df.shape[1]\n",
    "    NombreColumna=df.columns\n",
    "    Indice=df.index\n",
    "    \n",
    "    #print(Filas)\n",
    "    #print(Columnas)\n",
    "    #print(NombreColumna)\n",
    "    #print(Indice)\n",
    "    \n",
    "    for i in range(Columnas):\n",
    "        if i==0:\n",
    "            col_tot=pd.DataFrame(df[NombreColumna[i]],index=Indice,columns=[NombreColumna[i]])\n",
    "            col_tot['Cuenta']=NombreColumna[i]\n",
    "            col_tot.rename(columns={col_tot.columns[0]:'Valor'}, inplace=True)\n",
    "        else:\n",
    "            col=pd.DataFrame(df[NombreColumna[i]],index=Indice,columns=[NombreColumna[i]])\n",
    "            col['Cuenta']=NombreColumna[i]\n",
    "            col.rename(columns={col.columns[0]:'Valor'}, inplace=True)\n",
    "            col_tot=pd.concat([col_tot,col],axis=0)\n",
    "    \n",
    "    return col_tot"
   ]
  },
  {
   "cell_type": "code",
   "execution_count": null,
   "metadata": {},
   "outputs": [],
   "source": [
    "def AgregaCalcula(df_detalle,WeightField,Field_Sample,AggField):\n",
    "    \n",
    "    df_detalle[Field_Sample+'_population_total']=df_detalle[WeightField]*df_detalle[Field_Sample]\n",
    "    \n",
    "    df_counts=df_detalle.groupby(AggField).agg(\n",
    "        SumWeightField=pd.NamedAgg(column=WeightField, aggfunc=sum),\n",
    "        SumFieldPopulationTotal=pd.NamedAgg(column=Field_Sample+'_population_total', aggfunc=sum)\n",
    "        )\n",
    "    \n",
    "    df_counts.rename(columns={\n",
    "        'SumWeightField':'Sum'+WeightField,\n",
    "        'SumFieldPopulationTotal':'Sum'+Field_Sample+'_population_total'\n",
    "    },inplace=True)\n",
    "    \n",
    "    df_counts[Field_Sample]=df_counts['Sum'+Field_Sample+'_population_total']/df_counts['Sum'+WeightField]\n",
    "    \n",
    "    return df_counts"
   ]
  },
  {
   "cell_type": "code",
   "execution_count": null,
   "metadata": {},
   "outputs": [],
   "source": [
    "# create a list of our conditions\n",
    "conditions = [\n",
    "    (df_EPF_hog_gast_counts['EDADSP'] <= 25),\n",
    "    (df_EPF_hog_gast_counts['EDADSP'] > 25) & (df_EPF_hog_gast_counts['EDADSP'] <= 35),\n",
    "    (df_EPF_hog_gast_counts['EDADSP'] > 35) & (df_EPF_hog_gast_counts['EDADSP'] <= 45),\n",
    "    (df_EPF_hog_gast_counts['EDADSP'] > 45) & (df_EPF_hog_gast_counts['EDADSP'] <= 55),\n",
    "    (df_EPF_hog_gast_counts['EDADSP'] > 55) & (df_EPF_hog_gast_counts['EDADSP'] <= 65),\n",
    "    (df_EPF_hog_gast_counts['EDADSP'] > 65)\n",
    "    ]\n",
    "\n",
    "# create a list of the values we want to assign for each condition\n",
    "values = ['25 o menos', '25 a 35 ', '35 a 45', '45 a 55','55 a 65', '65 o mas']\n",
    "\n",
    "# create a new column and use np.select to assign values to it using our lists as arguments\n",
    "df_EPF_hog_gast_counts['RangoEDADSP'] = np.select(conditions, values)"
   ]
  },
  {
   "cell_type": "code",
   "execution_count": null,
   "metadata": {},
   "outputs": [],
   "source": [
    "def WeigthedPercentile(df,WeightField,Field,Percentile,Verbosity=0):\n",
    "    \n",
    "    df=df.sort_values(Field)\n",
    "    \n",
    "    SumWeightField=df[WeightField].sum()\n",
    "    if Verbosity>=1:\n",
    "        print(SumWeightField)\n",
    "    \n",
    "    Rows=df.shape[0]\n",
    "    if Verbosity>=1:\n",
    "        print(str(Rows)+'\\n')\n",
    "    \n",
    "    if Verbosity>=2:\n",
    "        print('Row|Percentile|CummulativeWeigth|Value')\n",
    "    for i in range(Rows):\n",
    "        \n",
    "        Weight=df[[WeightField,Field]].iloc[:i,0].sum()\n",
    "        Ratio=(Weight*100)/SumWeightField\n",
    "        PercentileValue=df[[WeightField,Field]].iloc[i,1]\n",
    "        \n",
    "        if Verbosity>=2:\n",
    "            print(str(i)+'  | '+str(round(Ratio,2))+' | '+str(round(Weight,2))+' | '+str(PercentileValue))\n",
    "        \n",
    "        if Ratio>=Percentile:\n",
    "            return PercentileValue"
   ]
  }
 ],
 "metadata": {
  "kernelspec": {
   "display_name": "Python 3",
   "language": "python",
   "name": "python3"
  },
  "language_info": {
   "codemirror_mode": {
    "name": "ipython",
    "version": 3
   },
   "file_extension": ".py",
   "mimetype": "text/x-python",
   "name": "python",
   "nbconvert_exporter": "python",
   "pygments_lexer": "ipython3",
   "version": "3.7.0"
  }
 },
 "nbformat": 4,
 "nbformat_minor": 2
}
